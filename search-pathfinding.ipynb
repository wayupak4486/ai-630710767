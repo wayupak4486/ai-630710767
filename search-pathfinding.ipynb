{
  "nbformat": 4,
  "nbformat_minor": 0,
  "metadata": {
    "colab": {
      "provenance": []
    },
    "kernelspec": {
      "name": "python3",
      "display_name": "Python 3"
    },
    "language_info": {
      "name": "python"
    }
  },
  "cells": [
    {
      "cell_type": "code",
      "execution_count": null,
      "metadata": {
        "id": "cRAD5_uJ80wE"
      },
      "outputs": [],
      "source": [
        "# ขั้นตอนที่ 1 ติดตั้งไลบรารีที่จำเป็น"
      ]
    },
    {
      "cell_type": "code",
      "source": [
        "!pip install osmnx==1.9.1 folium -q"
      ],
      "metadata": {
        "id": "pV_zRWDG-K4c"
      },
      "execution_count": null,
      "outputs": []
    },
    {
      "cell_type": "code",
      "source": [
        "# ขั้นตอนที่ 2 Import และตั้งค่าพื้นฐาน"
      ],
      "metadata": {
        "id": "pBsktU5L-RkM"
      },
      "execution_count": null,
      "outputs": []
    },
    {
      "cell_type": "code",
      "source": [
        "import osmnx as ox\n",
        "import networkx as nx\n",
        "import folium\n",
        "import pandas as pd\n",
        "import matplotlib.pyplot as plt\n",
        "from IPython.display import display"
      ],
      "metadata": {
        "id": "Lhs0t6rT9eO5"
      },
      "execution_count": null,
      "outputs": []
    },
    {
      "cell_type": "code",
      "source": [
        "ox.settings.use_cache = True\n",
        "ox.settings.log_console = False"
      ],
      "metadata": {
        "id": "w_Z-QxoB85FH"
      },
      "execution_count": null,
      "outputs": []
    },
    {
      "cell_type": "code",
      "source": [
        "print(f\"OSMnx version: {ox.__version__}\")\n",
        "print(f\"NetworkX version: {nx.__version__}\")"
      ],
      "metadata": {
        "id": "Pg_yAhiB9ax1"
      },
      "execution_count": null,
      "outputs": []
    },
    {
      "cell_type": "code",
      "source": [
        "# ขั้นตอนที่ 3 ดึงข้อมูลแผนที่กรุงเทพฯ"
      ],
      "metadata": {
        "id": "guO8Oy2Q-Wp0"
      },
      "execution_count": null,
      "outputs": []
    },
    {
      "cell_type": "code",
      "source": [
        "place_name = \"Chatuchak, Bangkok, Thailand\""
      ],
      "metadata": {
        "id": "j4LGzIPC9iar"
      },
      "execution_count": null,
      "outputs": []
    },
    {
      "cell_type": "code",
      "source": [
        "try:\n",
        "    # ดึงข้อมูลเครือข่ายถนนสำหรับการขับรถ\n",
        "    G = ox.graph_from_place(place_name, network_type='drive')\n",
        "\n",
        "    print(f\"- Nodes (intersections): {G.number_of_nodes():,}\")\n",
        "    print(f\"- Edges (street segments): {G.number_of_edges():,}\")\n",
        "\n",
        "    fig, ax = ox.plot_graph(G, node_size=1.5, edge_linewidth=0.5, show=False, close=False)\n",
        "    plt.title(f\"Street Network of {place_name}\")\n",
        "    plt.show()\n",
        "\n",
        "except Exception as e:\n",
        "    print(f\"Error downloading map data: {e}\")"
      ],
      "metadata": {
        "id": "CQePzZr49wRo"
      },
      "execution_count": null,
      "outputs": []
    },
    {
      "cell_type": "code",
      "source": [
        "# ขั้นตอนที่ 4 สำรวจข้อมูลเบื้องต้น"
      ],
      "metadata": {
        "id": "4R2CMSbb-E_n"
      },
      "execution_count": null,
      "outputs": []
    },
    {
      "cell_type": "code",
      "source": [
        "edges = ox.graph_to_gdfs(G, nodes=False)\n",
        "\n",
        "print(\"🔍 Sample street data (first 5 streets):\")\n",
        "print(edges[['highway', 'length', 'name']].head())\n",
        "\n",
        "print(\"\\n📊 Types of roads in our graph:\")\n",
        "highway_counts = edges['highway'].value_counts()\n",
        "print(highway_counts.head(10))"
      ],
      "metadata": {
        "id": "aKzKIMUY-a79"
      },
      "execution_count": null,
      "outputs": []
    },
    {
      "cell_type": "code",
      "source": [
        "plt.figure(figsize=(10, 6))\n",
        "highway_counts.head(10).plot(kind='bar')\n",
        "plt.title(\"Distribution of Road Types in Chatuchak\")\n",
        "plt.xlabel(\"Road Type\")\n",
        "plt.ylabel(\"Count\")\n",
        "plt.xticks(rotation=45)\n",
        "plt.tight_layout()\n",
        "plt.show()"
      ],
      "metadata": {
        "id": "Y4lesAhcHNy9"
      },
      "execution_count": null,
      "outputs": []
    },
    {
      "cell_type": "code",
      "source": [
        "# ขั้นตอนที่ 5 กำหนดจุดเริ่มต้นและปลายทาง"
      ],
      "metadata": {
        "id": "aaT8Y8kTJM1U"
      },
      "execution_count": null,
      "outputs": []
    },
    {
      "cell_type": "code",
      "source": [
        "start_lat, start_lon = 13.8021, 100.5538\n",
        "start_name = \"MRT Chatuchak Park\""
      ],
      "metadata": {
        "id": "zJoGD-zzJWOW"
      },
      "execution_count": null,
      "outputs": []
    },
    {
      "cell_type": "code",
      "source": [
        "end_lat, end_lon = 13.7992, 100.5489\n",
        "end_name = \"Or Tor Kor Market\""
      ],
      "metadata": {
        "id": "b3OIAh1mJeW3"
      },
      "execution_count": null,
      "outputs": []
    },
    {
      "cell_type": "code",
      "source": [
        "#  หาโหนดที่ใกล้ที่สุดบนกราฟ\n",
        "orig_node = ox.nearest_nodes(G, start_lon, start_lat)\n",
        "dest_node = ox.nearest_nodes(G, end_lon, end_lat)\n",
        "\n",
        "print(f\"🚶 Starting point: {start_name}\")\n",
        "print(f\"   Node ID: {orig_node}\")\n",
        "print(f\"🎯 Destination: {end_name}\")\n",
        "print(f\"   Node ID: {dest_node}\")"
      ],
      "metadata": {
        "id": "pp0C0AdWJfik"
      },
      "execution_count": null,
      "outputs": []
    },
    {
      "cell_type": "code",
      "source": [
        "if nx.has_path(G, orig_node, dest_node):\n",
        "    print(\"Path exists between origin and destination!\")\n",
        "else:\n",
        "    print(\"No path found! Try different locations.\")"
      ],
      "metadata": {
        "id": "xxEHcr3NJj55"
      },
      "execution_count": null,
      "outputs": []
    },
    {
      "cell_type": "code",
      "source": [
        "# ขั้นตอนที่ 6 หาเส้นทางที่สั้นที่สุดด้วย A*"
      ],
      "metadata": {
        "id": "Bf2JhHgzJ2Uy"
      },
      "execution_count": null,
      "outputs": []
    },
    {
      "cell_type": "code",
      "source": [
        "try:\n",
        "    # ใช้ A* algorithm หาเส้นทางที่สั้นที่สุด (ตามระยะทาง)\n",
        "    shortest_route = nx.astar_path(G, orig_node, dest_node, weight='length')\n",
        "\n",
        "    # คำนวณระยะทางรวม\n",
        "    route_length = nx.path_weight(G, shortest_route, weight='length')\n",
        "\n",
        "    print(f\"✅ Shortest route found!\")\n",
        "    print(f\"📏 Total distance: {route_length:,.0f} meters ({route_length/1000:.2f} km)\")\n",
        "    print(f\"🔢 Number of intersections: {len(shortest_route)}\")\n",
        "\n",
        "except nx.NetworkXNoPath:\n",
        "    print(\"❌ No path found between these locations!\")\n",
        "except Exception as e:\n",
        "    print(f\"❌ Error: {e}\")"
      ],
      "metadata": {
        "id": "Xni9sMz5KBWr"
      },
      "execution_count": null,
      "outputs": []
    },
    {
      "cell_type": "code",
      "source": [
        "# ขั้นตอนที่ 7 แสดงผลเส้นทางบนแผนที่ Interactive"
      ],
      "metadata": {
        "id": "Ymm1eZwzKNdj"
      },
      "execution_count": null,
      "outputs": []
    },
    {
      "cell_type": "code",
      "source": [
        "route_map = ox.plot_route_folium(G, shortest_route,\n",
        "                                  route_color='red',\n",
        "                                  route_width=5,\n",
        "                                  route_opacity=0.8)"
      ],
      "metadata": {
        "id": "sOCTJOw4cKx1"
      },
      "execution_count": null,
      "outputs": []
    },
    {
      "cell_type": "code",
      "source": [
        "start_marker = folium.Marker(\n",
        "    location=[start_lat, start_lon],\n",
        "    popup=f\"<b>Start:</b> {start_name}\",\n",
        "    icon=folium.Icon(color='green', icon='play')\n",
        ")\n",
        "start_marker.add_to(route_map)\n",
        "\n",
        "end_marker = folium.Marker(\n",
        "    location=[end_lat, end_lon],\n",
        "    popup=f\"<b>End:</b> {end_name}\",\n",
        "    icon=folium.Icon(color='red', icon='stop')\n",
        ")\n",
        "end_marker.add_to(route_map)"
      ],
      "metadata": {
        "id": "dS26FJRxK4Fx"
      },
      "execution_count": null,
      "outputs": []
    },
    {
      "cell_type": "code",
      "source": [
        "print(\"🗺️ Interactive map (zoom in/out to explore):\")\n",
        "display(route_map)"
      ],
      "metadata": {
        "id": "EqrRXvELLG_q"
      },
      "execution_count": null,
      "outputs": []
    },
    {
      "cell_type": "code",
      "source": [
        "# ขั้นตอนที่ 8 วิเคราะห์เส้นทาง"
      ],
      "metadata": {
        "id": "588CshQpLJWv"
      },
      "execution_count": null,
      "outputs": []
    },
    {
      "cell_type": "code",
      "source": [
        "route_edges = ox.utils_graph.route_to_gdf(G, shortest_route, weight='length')\n",
        "\n",
        "print(\"📊 Route Analysis:\")\n",
        "print(f\"Total segments: {len(route_edges)}\")\n",
        "print(f\"\\n🛣️ Street names used:\")\n",
        "\n",
        "# รวบรวมชื่อถนนที่ใช้ (ไม่ซ้ำ)\n",
        "street_names = route_edges['name'].dropna().unique()\n",
        "for i, street in enumerate(street_names, 1):\n",
        "    print(f\"   {i}. {street}\")\n",
        "\n",
        "# แสดงประเภทถนนที่ใช้\n",
        "print(f\"\\n🚗 Road types used:\")\n",
        "road_types = route_edges['highway'].value_counts()\n",
        "for road_type, count in road_types.items():\n",
        "    print(f\"   - {road_type}: {count} segments\")"
      ],
      "metadata": {
        "id": "cX_MpxKXLS2A"
      },
      "execution_count": null,
      "outputs": []
    },
    {
      "cell_type": "code",
      "source": [
        "# ขั้นตอนที่ 9 ลองเปลี่ยนจุดปลายทาง"
      ],
      "metadata": {
        "id": "qByBHUSaLVLP"
      },
      "execution_count": null,
      "outputs": []
    },
    {
      "cell_type": "code",
      "source": [
        "new_end_lat, new_end_lon = 13.8161, 100.5607\n",
        "new_end_name = \"Central Plaza Ladprao\"\n",
        "\n",
        "print(f\"🎯 New destination: {new_end_name}\")"
      ],
      "metadata": {
        "id": "E3aUEC7pMeLe"
      },
      "execution_count": null,
      "outputs": []
    },
    {
      "cell_type": "code",
      "source": [
        "new_dest_node = ox.nearest_nodes(G, new_end_lon, new_end_lat)\n",
        "new_route = nx.astar_path(G, orig_node, new_dest_node, weight='length')\n",
        "new_length = nx.path_weight(G, new_route, weight='length')\n",
        "\n",
        "print(f\"📏 Distance to new destination: {new_length:,.0f} meters ({new_length/1000:.2f} km)\")\n",
        "print(f\"📊 Difference: {abs(new_length - route_length):,.0f} meters\")"
      ],
      "metadata": {
        "id": "NXpyCFOzMh59"
      },
      "execution_count": null,
      "outputs": []
    },
    {
      "cell_type": "code",
      "source": [
        "comparison_map = ox.plot_route_folium(G, shortest_route,\n",
        "                                      route_color='red',\n",
        "                                      route_width=4,\n",
        "                                      route_opacity=0.7)\n",
        "\n",
        "comparison_map = ox.plot_route_folium(G, new_route,\n",
        "                                      route_map=comparison_map,\n",
        "                                      route_color='blue',\n",
        "                                      route_width=4,\n",
        "                                      route_opacity=0.7)"
      ],
      "metadata": {
        "id": "JAfOF8XwMkEP"
      },
      "execution_count": null,
      "outputs": []
    },
    {
      "cell_type": "code",
      "source": [
        "folium.Marker([start_lat, start_lon],\n",
        "              popup=f\"<b>Start:</b> {start_name}\",\n",
        "              icon=folium.Icon(color='green')).add_to(comparison_map)\n",
        "\n",
        "folium.Marker([end_lat, end_lon],\n",
        "              popup=f\"<b>Destination 1:</b> {end_name}\",\n",
        "              icon=folium.Icon(color='red')).add_to(comparison_map)\n",
        "\n",
        "folium.Marker([new_end_lat, new_end_lon],\n",
        "              popup=f\"<b>Destination 2:</b> {new_end_name}\",\n",
        "              icon=folium.Icon(color='blue')).add_to(comparison_map)\n",
        "\n",
        "print(\"\\n🗺️ Comparison map (Red = Or Tor Kor, Blue = Central Ladprao):\")\n",
        "display(comparison_map)"
      ],
      "metadata": {
        "id": "PjQTmuUzMszH"
      },
      "execution_count": null,
      "outputs": []
    },
    {
      "cell_type": "code",
      "metadata": {
        "id": "39ab359d"
      },
      "source": [
        "help(ox.graph_from_place)"
      ],
      "execution_count": null,
      "outputs": []
    },
    {
      "cell_type": "code",
      "source": [
        "# ขั้นตอนที่ 10 เพิ่ม \"travel time\" เป็น weight แทน distance"
      ],
      "metadata": {
        "id": "4Ww8cTyahApn"
      },
      "execution_count": null,
      "outputs": []
    },
    {
      "cell_type": "code",
      "metadata": {
        "id": "bfbe898d"
      },
      "source": [
        "# Define estimated travel speeds for different road types in km/h\n",
        "speed_kmph = {\n",
        "    'residential': 30,  # Typical speed in residential areas\n",
        "    'unclassified': 30, # Similar to residential\n",
        "    'tertiary': 40,     # Medium speed urban roads\n",
        "    'secondary': 50,    # Arterial roads\n",
        "    'primary': 60,      # Major urban roads\n",
        "    'trunk': 70,        # Major highways/expressways within urban area\n",
        "    'motorway': 90,     # High-speed expressways\n",
        "    'living_street': 10,# Very low speed\n",
        "    'service': 20,      # Service roads, alleys\n",
        "    'road': 30,         # General unclassified roads\n",
        "    'primary_link': 60, # Links to primary roads\n",
        "    'secondary_link': 50,# Links to secondary roads\n",
        "    'tertiary_link': 40, # Links to tertiary roads\n",
        "    'trunk_link': 70,   # Links to trunk roads\n",
        "    'motorway_link': 90 # Links to motorways\n",
        "}\n",
        "\n",
        "print(\"Estimated speeds (km/h) by road type\")\n",
        "for highway_type, speed in speed_kmph.items():\n",
        "    print(f\"  {highway_type}: {speed}\")"
      ],
      "execution_count": null,
      "outputs": []
    },
    {
      "cell_type": "code",
      "source": [
        "# ขั้นตอนที่ 11 คำนวน travel time"
      ],
      "metadata": {
        "id": "EAsLJlLGhMLx"
      },
      "execution_count": null,
      "outputs": []
    },
    {
      "cell_type": "code",
      "metadata": {
        "id": "cd708e74"
      },
      "source": [
        "# Convert speed from km/h to meters per second\n",
        "speed_mps = {highway_type: speed * 1000 / 3600 for highway_type, speed in speed_kmph.items()}\n",
        "\n",
        "# Add 'speed_mps' attribute to edges based on 'highway' type\n",
        "G = ox.add_edge_speeds(G, speed_mps)\n",
        "\n",
        "# Calculate and add 'travel_time' attribute to edges\n",
        "G = ox.add_edge_travel_times(G)"
      ],
      "execution_count": null,
      "outputs": []
    },
    {
      "cell_type": "code",
      "source": [
        "# ขั้นตอนที่ 12 shortest path จาก time"
      ],
      "metadata": {
        "id": "4jdaVpK3hTur"
      },
      "execution_count": null,
      "outputs": []
    },
    {
      "cell_type": "code",
      "metadata": {
        "id": "e6d62d5e"
      },
      "source": [
        "# ใช้ A* algorithm หาเส้นทางที่ใช้เวลาน้อยที่สุด\n",
        "shortest_route_time = nx.astar_path(G, orig_node, dest_node, weight='travel_time')\n",
        "\n",
        "# คำนวณเวลาการเดินทางรวม\n",
        "route_time = nx.path_weight(G, shortest_route_time, weight='travel_time')\n",
        "\n",
        "print(f\"⏰ Estimated total travel time: {route_time:.2f} seconds ({route_time/60:.2f} minutes)\")\n",
        "print(f\"Number of intersections: {len(shortest_route_time)}\")"
      ],
      "execution_count": null,
      "outputs": []
    },
    {
      "cell_type": "code",
      "source": [
        "# ตัวอย่างการกำหนดความเร็วให้แต่ละเส้นทาง"
      ],
      "metadata": {
        "id": "JeRHkqMGYPUC"
      },
      "execution_count": null,
      "outputs": []
    },
    {
      "cell_type": "code",
      "metadata": {
        "id": "cf9e62c6"
      },
      "source": [
        "# u, v, key คือตัวระบุเส้นถนน และ 'speed_mps_actual' คือความเร็วจริงในหน่วย เมตรต่อวินาที\n",
        "data = {\n",
        "    'u': [85753778, 105838415, 105838415, 9444510080, 2197616325],\n",
        "    'v': [1893839406, 1817818994, 8107214608, 2197616325, 9444510080],\n",
        "    'key': [0, 0, 0, 0, 0],\n",
        "    'speed_mps_actual': [15.2, 12.5, 5.0, 10.0, 9.5]\n",
        "}\n",
        "\n",
        "df_speeds_actual = pd.DataFrame(data)\n",
        "\n",
        "display(df_speeds_actual)"
      ],
      "execution_count": null,
      "outputs": []
    },
    {
      "cell_type": "code",
      "source": [],
      "metadata": {
        "id": "6hMm7paohgkK"
      },
      "execution_count": null,
      "outputs": []
    }
  ]
}