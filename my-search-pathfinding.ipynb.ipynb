{
  "nbformat": 4,
  "nbformat_minor": 0,
  "metadata": {
    "colab": {
      "provenance": []
    },
    "kernelspec": {
      "name": "python3",
      "display_name": "Python 3"
    },
    "language_info": {
      "name": "python"
    }
  },
  "cells": [
    {
      "cell_type": "code",
      "execution_count": 23,
      "metadata": {
        "id": "cRAD5_uJ80wE"
      },
      "outputs": [],
      "source": [
        "# ขั้นตอนที่ 1 ติดตั้งไลบรารีที่จำเป็น"
      ]
    },
    {
      "cell_type": "code",
      "source": [
        "!pip install osmnx==1.9.1 folium -q"
      ],
      "metadata": {
        "id": "pV_zRWDG-K4c"
      },
      "execution_count": 24,
      "outputs": []
    },
    {
      "cell_type": "code",
      "source": [
        "# ขั้นตอนที่ 2 Import และตั้งค่าพื้นฐาน"
      ],
      "metadata": {
        "id": "pBsktU5L-RkM"
      },
      "execution_count": 25,
      "outputs": []
    },
    {
      "cell_type": "code",
      "source": [
        "import osmnx as ox\n",
        "import networkx as nx\n",
        "import folium"
      ],
      "metadata": {
        "id": "Lhs0t6rT9eO5"
      },
      "execution_count": 26,
      "outputs": []
    },
    {
      "cell_type": "code",
      "source": [
        "ox.settings.use_cache = True\n",
        "ox.settings.log_console = False"
      ],
      "metadata": {
        "id": "w_Z-QxoB85FH"
      },
      "execution_count": 27,
      "outputs": []
    },
    {
      "cell_type": "code",
      "source": [
        "yourplace = (13.810925413203364, 100.03999535873761)\n",
        "silpakorn = (13.817015070841382, 100.04208567514407)"
      ],
      "metadata": {
        "id": "Pg_yAhiB9ax1"
      },
      "execution_count": 28,
      "outputs": []
    },
    {
      "cell_type": "code",
      "source": [
        "# ขั้นตอนที่ 3 ดึงข้อมูลแผนที่พื้นที่กว้าง (กรุงเทพฯ และ นครปฐม)"
      ],
      "metadata": {
        "id": "guO8Oy2Q-Wp0"
      },
      "execution_count": 29,
      "outputs": []
    },
    {
      "cell_type": "code",
      "source": [
        "north = max(yourplace[0], silpakorn[0]) + 0.01\n",
        "south = min(yourplace[0], silpakorn[0]) - 0.01\n",
        "east = max(yourplace[1], silpakorn[1]) + 0.01\n",
        "west = min(yourplace[1], silpakorn[1]) - 0.01\n",
        "\n",
        "G = ox.graph_from_bbox(north, south, east, west, network_type='drive')"
      ],
      "metadata": {
        "colab": {
          "base_uri": "https://localhost:8080/"
        },
        "id": "-hnQocGvRLxN",
        "outputId": "1d7c249b-86b5-4793-8f9a-b5f88cf9aa5f"
      },
      "execution_count": 30,
      "outputs": [
        {
          "output_type": "stream",
          "name": "stderr",
          "text": [
            "/tmp/ipython-input-30-1862867417.py:6: FutureWarning: The `north`, `south`, `east`, and `west` parameters are deprecated and will be removed in the v2.0.0 release. Use the `bbox` parameter instead.\n",
            "  G = ox.graph_from_bbox(north, south, east, west, network_type='drive')\n"
          ]
        }
      ]
    },
    {
      "cell_type": "code",
      "source": [
        "# หา node ที่ใกล้ที่สุดกับ yourplace และ silpakorn"
      ],
      "metadata": {
        "id": "cxk8LZOaTbQs"
      },
      "execution_count": 31,
      "outputs": []
    },
    {
      "cell_type": "code",
      "source": [
        "orig_node = ox.distance.nearest_nodes(G, yourplace[1], yourplace[0])\n",
        "dest_node = ox.distance.nearest_nodes(G, silpakorn[1], silpakorn[0])"
      ],
      "metadata": {
        "id": "dQhSq3kFTcFS"
      },
      "execution_count": 32,
      "outputs": []
    },
    {
      "cell_type": "code",
      "source": [
        "# เติมข้อมูลความเร็วเฉลี่ยบนถนน ถ้าไม่มีข้อมูล maxspeed กำหนด default 40 กม./ชม."
      ],
      "metadata": {
        "id": "sz9YKinyTinq"
      },
      "execution_count": 33,
      "outputs": []
    },
    {
      "cell_type": "code",
      "source": [
        "for u, v, k, data in G.edges(keys=True, data=True):\n",
        "    if 'maxspeed' in data:\n",
        "        if isinstance(data['maxspeed'], list):\n",
        "            speed_str = data['maxspeed'][0]\n",
        "        else:\n",
        "            speed_str = data['maxspeed']\n",
        "        try:\n",
        "            speed = float(speed_str.split()[0])\n",
        "        except:\n",
        "            speed = 40.0\n",
        "    else:\n",
        "        speed = 40.0\n",
        "    data['speed_kph'] = speed\n",
        "    # คำนวณเวลาขับขี่เป็นวินาที\n",
        "    data['travel_time'] = data['length'] / (speed * 1000 / 3600)"
      ],
      "metadata": {
        "id": "x15pTQdvTiMN"
      },
      "execution_count": 34,
      "outputs": []
    },
    {
      "cell_type": "code",
      "source": [
        "# หาเส้นทางที่ระยะทางสั้นที่สุด (weight='length')\n",
        "route_length = sum(ox.utils_graph.get_route_edge_attributes(G, route, 'length'))\n",
        "route_travel_time = sum(ox.utils_graph.get_route_edge_attributes(G, route, 'travel_time'))\n",
        "\n",
        "print(f\"Shortest route length: {route_length:.2f} meters\")\n",
        "print(f\"Estimated travel time: {route_travel_time/60:.2f} minutes\")\n"
      ],
      "metadata": {
        "colab": {
          "base_uri": "https://localhost:8080/"
        },
        "id": "Gkz931IwTvP1",
        "outputId": "351eac3a-7f56-4829-9a0d-8025f1792509"
      },
      "execution_count": 35,
      "outputs": [
        {
          "output_type": "stream",
          "name": "stdout",
          "text": [
            "Shortest route length: 1037.51 meters\n",
            "Estimated travel time: 1.56 minutes\n"
          ]
        },
        {
          "output_type": "stream",
          "name": "stderr",
          "text": [
            "/tmp/ipython-input-35-1117023988.py:2: FutureWarning: The `get_route_edge_attributes` function has been deprecated and will be removed in the v2.0.0 release. Use the `route_to_gdf` function instead.\n",
            "  route_length = sum(ox.utils_graph.get_route_edge_attributes(G, route, 'length'))\n",
            "/tmp/ipython-input-35-1117023988.py:3: FutureWarning: The `get_route_edge_attributes` function has been deprecated and will be removed in the v2.0.0 release. Use the `route_to_gdf` function instead.\n",
            "  route_travel_time = sum(ox.utils_graph.get_route_edge_attributes(G, route, 'travel_time'))\n"
          ]
        }
      ]
    },
    {
      "cell_type": "code",
      "source": [
        "# ถ้าต้องการพล็อตเส้นทางบนแผนที่แบบ interactive ใช้ folium\n",
        "route_map = ox.plot_route_folium(G, route, route_color='red')"
      ],
      "metadata": {
        "colab": {
          "base_uri": "https://localhost:8080/"
        },
        "id": "6kli4e3bH3Ql",
        "outputId": "abf9139c-110c-4989-d7a0-b5a697bdc8e9"
      },
      "execution_count": 36,
      "outputs": [
        {
          "output_type": "stream",
          "name": "stderr",
          "text": [
            "/tmp/ipython-input-36-3845288638.py:2: FutureWarning: The `folium` module has been deprecated and will be removed in the v2.0.0 release. You can generate and explore interactive web maps of graph nodes, edges, and/or routes automatically using GeoPandas.GeoDataFrame.explore instead, for example like: `ox.graph_to_gdfs(G, nodes=False).explore()`. See the OSMnx examples gallery for complete details and demonstrations.\n",
            "  route_map = ox.plot_route_folium(G, route, route_color='red')\n"
          ]
        }
      ]
    },
    {
      "cell_type": "code",
      "source": [
        "# เพิ่ม marker จุดเริ่มต้น\n",
        "folium.Marker(location=yourplace, popup=\"Your Place\", icon=folium.Icon(color='green')).add_to(route_map)"
      ],
      "metadata": {
        "colab": {
          "base_uri": "https://localhost:8080/"
        },
        "id": "Ut22uPIRUKl5",
        "outputId": "57ff136c-6b2c-4b7a-d23f-5711f0501021"
      },
      "execution_count": 37,
      "outputs": [
        {
          "output_type": "execute_result",
          "data": {
            "text/plain": [
              "<folium.map.Marker at 0x7942e26bc090>"
            ]
          },
          "metadata": {},
          "execution_count": 37
        }
      ]
    },
    {
      "cell_type": "code",
      "source": [
        "# เพิ่ม marker จุดปลายทาง\n",
        "folium.Marker(location=silpakorn, popup=\"Silpakorn University\", icon=folium.Icon(color='red')).add_to(route_map)"
      ],
      "metadata": {
        "colab": {
          "base_uri": "https://localhost:8080/"
        },
        "id": "QU_ODo8SUNgQ",
        "outputId": "2d5060dc-75dd-46de-8c77-fa7d8b53c4a7"
      },
      "execution_count": 38,
      "outputs": [
        {
          "output_type": "execute_result",
          "data": {
            "text/plain": [
              "<folium.map.Marker at 0x79430fba2450>"
            ]
          },
          "metadata": {},
          "execution_count": 38
        }
      ]
    },
    {
      "cell_type": "code",
      "source": [
        "# แสดงแผนที่ interactive\n",
        "route_map"
      ],
      "metadata": {
        "colab": {
          "base_uri": "https://localhost:8080/",
          "height": 1000
        },
        "id": "XdfCKLIPUPLb",
        "outputId": "0acef33a-5b1e-4c44-b02d-3047fb472981"
      },
      "execution_count": 39,
      "outputs": [
        {
          "output_type": "execute_result",
          "data": {
            "text/plain": [
              "<folium.folium.Map at 0x79431bec7310>"
            ],
            "text/html": [
              "<div style=\"width:100%;\"><div style=\"position:relative;width:100%;height:0;padding-bottom:60%;\"><span style=\"color:#565656\">Make this Notebook Trusted to load map: File -> Trust Notebook</span><iframe srcdoc=\"&lt;!DOCTYPE html&gt;\n",
              "&lt;html&gt;\n",
              "&lt;head&gt;\n",
              "    \n",
              "    &lt;meta http-equiv=&quot;content-type&quot; content=&quot;text/html; charset=UTF-8&quot; /&gt;\n",
              "    &lt;script src=&quot;https://cdn.jsdelivr.net/npm/leaflet@1.9.3/dist/leaflet.js&quot;&gt;&lt;/script&gt;\n",
              "    &lt;script src=&quot;https://code.jquery.com/jquery-3.7.1.min.js&quot;&gt;&lt;/script&gt;\n",
              "    &lt;script src=&quot;https://cdn.jsdelivr.net/npm/bootstrap@5.2.2/dist/js/bootstrap.bundle.min.js&quot;&gt;&lt;/script&gt;\n",
              "    &lt;script src=&quot;https://cdnjs.cloudflare.com/ajax/libs/Leaflet.awesome-markers/2.0.2/leaflet.awesome-markers.js&quot;&gt;&lt;/script&gt;\n",
              "    &lt;link rel=&quot;stylesheet&quot; href=&quot;https://cdn.jsdelivr.net/npm/leaflet@1.9.3/dist/leaflet.css&quot;/&gt;\n",
              "    &lt;link rel=&quot;stylesheet&quot; href=&quot;https://cdn.jsdelivr.net/npm/bootstrap@5.2.2/dist/css/bootstrap.min.css&quot;/&gt;\n",
              "    &lt;link rel=&quot;stylesheet&quot; href=&quot;https://netdna.bootstrapcdn.com/bootstrap/3.0.0/css/bootstrap-glyphicons.css&quot;/&gt;\n",
              "    &lt;link rel=&quot;stylesheet&quot; href=&quot;https://cdn.jsdelivr.net/npm/@fortawesome/fontawesome-free@6.2.0/css/all.min.css&quot;/&gt;\n",
              "    &lt;link rel=&quot;stylesheet&quot; href=&quot;https://cdnjs.cloudflare.com/ajax/libs/Leaflet.awesome-markers/2.0.2/leaflet.awesome-markers.css&quot;/&gt;\n",
              "    &lt;link rel=&quot;stylesheet&quot; href=&quot;https://cdn.jsdelivr.net/gh/python-visualization/folium/folium/templates/leaflet.awesome.rotate.min.css&quot;/&gt;\n",
              "    \n",
              "            &lt;meta name=&quot;viewport&quot; content=&quot;width=device-width,\n",
              "                initial-scale=1.0, maximum-scale=1.0, user-scalable=no&quot; /&gt;\n",
              "            &lt;style&gt;\n",
              "                #map_e4ff0b07f35fa12a99300edbf4d21719 {\n",
              "                    position: relative;\n",
              "                    width: 100.0%;\n",
              "                    height: 100.0%;\n",
              "                    left: 0.0%;\n",
              "                    top: 0.0%;\n",
              "                }\n",
              "                .leaflet-container { font-size: 1rem; }\n",
              "            &lt;/style&gt;\n",
              "\n",
              "            &lt;style&gt;html, body {\n",
              "                width: 100%;\n",
              "                height: 100%;\n",
              "                margin: 0;\n",
              "                padding: 0;\n",
              "            }\n",
              "            &lt;/style&gt;\n",
              "\n",
              "            &lt;style&gt;#map {\n",
              "                position:absolute;\n",
              "                top:0;\n",
              "                bottom:0;\n",
              "                right:0;\n",
              "                left:0;\n",
              "                }\n",
              "            &lt;/style&gt;\n",
              "\n",
              "            &lt;script&gt;\n",
              "                L_NO_TOUCH = false;\n",
              "                L_DISABLE_3D = false;\n",
              "            &lt;/script&gt;\n",
              "\n",
              "        \n",
              "&lt;/head&gt;\n",
              "&lt;body&gt;\n",
              "    \n",
              "    \n",
              "            &lt;div class=&quot;folium-map&quot; id=&quot;map_e4ff0b07f35fa12a99300edbf4d21719&quot; &gt;&lt;/div&gt;\n",
              "        \n",
              "&lt;/body&gt;\n",
              "&lt;script&gt;\n",
              "    \n",
              "    \n",
              "            var map_e4ff0b07f35fa12a99300edbf4d21719 = L.map(\n",
              "                &quot;map_e4ff0b07f35fa12a99300edbf4d21719&quot;,\n",
              "                {\n",
              "                    center: [13.813285272209328, 100.04123059477332],\n",
              "                    crs: L.CRS.EPSG3857,\n",
              "                    ...{\n",
              "  &quot;zoom&quot;: 1,\n",
              "  &quot;zoomControl&quot;: true,\n",
              "  &quot;preferCanvas&quot;: false,\n",
              "}\n",
              "\n",
              "                }\n",
              "            );\n",
              "\n",
              "            \n",
              "\n",
              "        \n",
              "    \n",
              "            var tile_layer_ba3bd4b57d9f48d1d32d493cda279246 = L.tileLayer(\n",
              "                &quot;https://{s}.basemaps.cartocdn.com/light_all/{z}/{x}/{y}{r}.png&quot;,\n",
              "                {\n",
              "  &quot;minZoom&quot;: 0,\n",
              "  &quot;maxZoom&quot;: 20,\n",
              "  &quot;maxNativeZoom&quot;: 20,\n",
              "  &quot;noWrap&quot;: false,\n",
              "  &quot;attribution&quot;: &quot;\\u0026copy; \\u003ca href=\\&quot;https://www.openstreetmap.org/copyright\\&quot;\\u003eOpenStreetMap\\u003c/a\\u003e contributors \\u0026copy; \\u003ca href=\\&quot;https://carto.com/attributions\\&quot;\\u003eCARTO\\u003c/a\\u003e&quot;,\n",
              "  &quot;subdomains&quot;: &quot;abcd&quot;,\n",
              "  &quot;detectRetina&quot;: false,\n",
              "  &quot;tms&quot;: false,\n",
              "  &quot;opacity&quot;: 1,\n",
              "}\n",
              "\n",
              "            );\n",
              "        \n",
              "    \n",
              "            tile_layer_ba3bd4b57d9f48d1d32d493cda279246.addTo(map_e4ff0b07f35fa12a99300edbf4d21719);\n",
              "        \n",
              "    \n",
              "            var poly_line_ae54b601518b15cb5ff84578c086a5d6 = L.polyline(\n",
              "                [[13.8106374, 100.0397882], [13.8106264, 100.0398671], [13.8105981, 100.0400698], [13.8105869, 100.0401497], [13.8105853, 100.0401789], [13.8105782, 100.0403091]],\n",
              "                {&quot;bubblingMouseEvents&quot;: true, &quot;color&quot;: &quot;#3388ff&quot;, &quot;dashArray&quot;: null, &quot;dashOffset&quot;: null, &quot;fill&quot;: false, &quot;fillColor&quot;: &quot;#3388ff&quot;, &quot;fillOpacity&quot;: 0.2, &quot;fillRule&quot;: &quot;evenodd&quot;, &quot;lineCap&quot;: &quot;round&quot;, &quot;lineJoin&quot;: &quot;round&quot;, &quot;noClip&quot;: false, &quot;opacity&quot;: 1.0, &quot;smoothFactor&quot;: 1.0, &quot;stroke&quot;: true, &quot;weight&quot;: 3}\n",
              "            ).addTo(map_e4ff0b07f35fa12a99300edbf4d21719);\n",
              "        \n",
              "    \n",
              "            var poly_line_def988932fe46b7e82d840801bfa466b = L.polyline(\n",
              "                [[13.8105782, 100.0403091], [13.8105782, 100.0404025]],\n",
              "                {&quot;bubblingMouseEvents&quot;: true, &quot;color&quot;: &quot;#3388ff&quot;, &quot;dashArray&quot;: null, &quot;dashOffset&quot;: null, &quot;fill&quot;: false, &quot;fillColor&quot;: &quot;#3388ff&quot;, &quot;fillOpacity&quot;: 0.2, &quot;fillRule&quot;: &quot;evenodd&quot;, &quot;lineCap&quot;: &quot;round&quot;, &quot;lineJoin&quot;: &quot;round&quot;, &quot;noClip&quot;: false, &quot;opacity&quot;: 1.0, &quot;smoothFactor&quot;: 1.0, &quot;stroke&quot;: true, &quot;weight&quot;: 3}\n",
              "            ).addTo(map_e4ff0b07f35fa12a99300edbf4d21719);\n",
              "        \n",
              "    \n",
              "            var poly_line_f2912d934de13e5a562b1e23aa8df2d7 = L.polyline(\n",
              "                [[13.8105782, 100.0404025], [13.8105821, 100.0405023], [13.810606, 100.0409215], [13.8106257, 100.0411665]],\n",
              "                {&quot;bubblingMouseEvents&quot;: true, &quot;color&quot;: &quot;#3388ff&quot;, &quot;dashArray&quot;: null, &quot;dashOffset&quot;: null, &quot;fill&quot;: false, &quot;fillColor&quot;: &quot;#3388ff&quot;, &quot;fillOpacity&quot;: 0.2, &quot;fillRule&quot;: &quot;evenodd&quot;, &quot;lineCap&quot;: &quot;round&quot;, &quot;lineJoin&quot;: &quot;round&quot;, &quot;noClip&quot;: false, &quot;opacity&quot;: 1.0, &quot;smoothFactor&quot;: 1.0, &quot;stroke&quot;: true, &quot;weight&quot;: 3}\n",
              "            ).addTo(map_e4ff0b07f35fa12a99300edbf4d21719);\n",
              "        \n",
              "    \n",
              "            var poly_line_6488d3a4ae9a76f199cfa323437ae792 = L.polyline(\n",
              "                [[13.8106257, 100.0411665], [13.8106479, 100.0413131]],\n",
              "                {&quot;bubblingMouseEvents&quot;: true, &quot;color&quot;: &quot;#3388ff&quot;, &quot;dashArray&quot;: null, &quot;dashOffset&quot;: null, &quot;fill&quot;: false, &quot;fillColor&quot;: &quot;#3388ff&quot;, &quot;fillOpacity&quot;: 0.2, &quot;fillRule&quot;: &quot;evenodd&quot;, &quot;lineCap&quot;: &quot;round&quot;, &quot;lineJoin&quot;: &quot;round&quot;, &quot;noClip&quot;: false, &quot;opacity&quot;: 1.0, &quot;smoothFactor&quot;: 1.0, &quot;stroke&quot;: true, &quot;weight&quot;: 3}\n",
              "            ).addTo(map_e4ff0b07f35fa12a99300edbf4d21719);\n",
              "        \n",
              "    \n",
              "            var poly_line_e1013753fde57d560eaf216f1b13a912 = L.polyline(\n",
              "                [[13.8106479, 100.0413131], [13.810725, 100.0413114], [13.810822, 100.0413179]],\n",
              "                {&quot;bubblingMouseEvents&quot;: true, &quot;color&quot;: &quot;#3388ff&quot;, &quot;dashArray&quot;: null, &quot;dashOffset&quot;: null, &quot;fill&quot;: false, &quot;fillColor&quot;: &quot;#3388ff&quot;, &quot;fillOpacity&quot;: 0.2, &quot;fillRule&quot;: &quot;evenodd&quot;, &quot;lineCap&quot;: &quot;round&quot;, &quot;lineJoin&quot;: &quot;round&quot;, &quot;noClip&quot;: false, &quot;opacity&quot;: 1.0, &quot;smoothFactor&quot;: 1.0, &quot;stroke&quot;: true, &quot;weight&quot;: 3}\n",
              "            ).addTo(map_e4ff0b07f35fa12a99300edbf4d21719);\n",
              "        \n",
              "    \n",
              "            var poly_line_9cb4887a4571b01be94e1d5fbedce51b = L.polyline(\n",
              "                [[13.810822, 100.0413179], [13.8108773, 100.0413217]],\n",
              "                {&quot;bubblingMouseEvents&quot;: true, &quot;color&quot;: &quot;#3388ff&quot;, &quot;dashArray&quot;: null, &quot;dashOffset&quot;: null, &quot;fill&quot;: false, &quot;fillColor&quot;: &quot;#3388ff&quot;, &quot;fillOpacity&quot;: 0.2, &quot;fillRule&quot;: &quot;evenodd&quot;, &quot;lineCap&quot;: &quot;round&quot;, &quot;lineJoin&quot;: &quot;round&quot;, &quot;noClip&quot;: false, &quot;opacity&quot;: 1.0, &quot;smoothFactor&quot;: 1.0, &quot;stroke&quot;: true, &quot;weight&quot;: 3}\n",
              "            ).addTo(map_e4ff0b07f35fa12a99300edbf4d21719);\n",
              "        \n",
              "    \n",
              "            var poly_line_1c0090be58cfe7451c859de1837adc31 = L.polyline(\n",
              "                [[13.8108773, 100.0413217], [13.8109048, 100.0413235], [13.8112081, 100.041351]],\n",
              "                {&quot;bubblingMouseEvents&quot;: true, &quot;color&quot;: &quot;#3388ff&quot;, &quot;dashArray&quot;: null, &quot;dashOffset&quot;: null, &quot;fill&quot;: false, &quot;fillColor&quot;: &quot;#3388ff&quot;, &quot;fillOpacity&quot;: 0.2, &quot;fillRule&quot;: &quot;evenodd&quot;, &quot;lineCap&quot;: &quot;round&quot;, &quot;lineJoin&quot;: &quot;round&quot;, &quot;noClip&quot;: false, &quot;opacity&quot;: 1.0, &quot;smoothFactor&quot;: 1.0, &quot;stroke&quot;: true, &quot;weight&quot;: 3}\n",
              "            ).addTo(map_e4ff0b07f35fa12a99300edbf4d21719);\n",
              "        \n",
              "    \n",
              "            var poly_line_fa2743fdedc7e44be4c0f4d53c564501 = L.polyline(\n",
              "                [[13.8112081, 100.041351], [13.8112607, 100.0413569]],\n",
              "                {&quot;bubblingMouseEvents&quot;: true, &quot;color&quot;: &quot;#3388ff&quot;, &quot;dashArray&quot;: null, &quot;dashOffset&quot;: null, &quot;fill&quot;: false, &quot;fillColor&quot;: &quot;#3388ff&quot;, &quot;fillOpacity&quot;: 0.2, &quot;fillRule&quot;: &quot;evenodd&quot;, &quot;lineCap&quot;: &quot;round&quot;, &quot;lineJoin&quot;: &quot;round&quot;, &quot;noClip&quot;: false, &quot;opacity&quot;: 1.0, &quot;smoothFactor&quot;: 1.0, &quot;stroke&quot;: true, &quot;weight&quot;: 3}\n",
              "            ).addTo(map_e4ff0b07f35fa12a99300edbf4d21719);\n",
              "        \n",
              "    \n",
              "            var poly_line_6e54fa1d67b3e84a32a8013c602762aa = L.polyline(\n",
              "                [[13.8112607, 100.0413569], [13.8116019, 100.0414033], [13.81166, 100.0414125]],\n",
              "                {&quot;bubblingMouseEvents&quot;: true, &quot;color&quot;: &quot;#3388ff&quot;, &quot;dashArray&quot;: null, &quot;dashOffset&quot;: null, &quot;fill&quot;: false, &quot;fillColor&quot;: &quot;#3388ff&quot;, &quot;fillOpacity&quot;: 0.2, &quot;fillRule&quot;: &quot;evenodd&quot;, &quot;lineCap&quot;: &quot;round&quot;, &quot;lineJoin&quot;: &quot;round&quot;, &quot;noClip&quot;: false, &quot;opacity&quot;: 1.0, &quot;smoothFactor&quot;: 1.0, &quot;stroke&quot;: true, &quot;weight&quot;: 3}\n",
              "            ).addTo(map_e4ff0b07f35fa12a99300edbf4d21719);\n",
              "        \n",
              "    \n",
              "            var poly_line_4b708790f2bd23c4065d4305a654d522 = L.polyline(\n",
              "                [[13.81166, 100.0414125], [13.8117256, 100.0414164], [13.8121735, 100.0413982], [13.8122306, 100.0414033], [13.8122705, 100.0414068], [13.8123795, 100.0414508], [13.8124725, 100.0415092], [13.8125484, 100.0415747]],\n",
              "                {&quot;bubblingMouseEvents&quot;: true, &quot;color&quot;: &quot;#3388ff&quot;, &quot;dashArray&quot;: null, &quot;dashOffset&quot;: null, &quot;fill&quot;: false, &quot;fillColor&quot;: &quot;#3388ff&quot;, &quot;fillOpacity&quot;: 0.2, &quot;fillRule&quot;: &quot;evenodd&quot;, &quot;lineCap&quot;: &quot;round&quot;, &quot;lineJoin&quot;: &quot;round&quot;, &quot;noClip&quot;: false, &quot;opacity&quot;: 1.0, &quot;smoothFactor&quot;: 1.0, &quot;stroke&quot;: true, &quot;weight&quot;: 3}\n",
              "            ).addTo(map_e4ff0b07f35fa12a99300edbf4d21719);\n",
              "        \n",
              "    \n",
              "            var poly_line_e8413963ef23b855b4eceda4f7c0ad2d = L.polyline(\n",
              "                [[13.8125484, 100.0415747], [13.8127002, 100.0417057]],\n",
              "                {&quot;bubblingMouseEvents&quot;: true, &quot;color&quot;: &quot;#3388ff&quot;, &quot;dashArray&quot;: null, &quot;dashOffset&quot;: null, &quot;fill&quot;: false, &quot;fillColor&quot;: &quot;#3388ff&quot;, &quot;fillOpacity&quot;: 0.2, &quot;fillRule&quot;: &quot;evenodd&quot;, &quot;lineCap&quot;: &quot;round&quot;, &quot;lineJoin&quot;: &quot;round&quot;, &quot;noClip&quot;: false, &quot;opacity&quot;: 1.0, &quot;smoothFactor&quot;: 1.0, &quot;stroke&quot;: true, &quot;weight&quot;: 3}\n",
              "            ).addTo(map_e4ff0b07f35fa12a99300edbf4d21719);\n",
              "        \n",
              "    \n",
              "            var poly_line_47c419696b0ea8656606f7ae3f8b556e = L.polyline(\n",
              "                [[13.8127002, 100.0417057], [13.8128058, 100.0417893]],\n",
              "                {&quot;bubblingMouseEvents&quot;: true, &quot;color&quot;: &quot;#3388ff&quot;, &quot;dashArray&quot;: null, &quot;dashOffset&quot;: null, &quot;fill&quot;: false, &quot;fillColor&quot;: &quot;#3388ff&quot;, &quot;fillOpacity&quot;: 0.2, &quot;fillRule&quot;: &quot;evenodd&quot;, &quot;lineCap&quot;: &quot;round&quot;, &quot;lineJoin&quot;: &quot;round&quot;, &quot;noClip&quot;: false, &quot;opacity&quot;: 1.0, &quot;smoothFactor&quot;: 1.0, &quot;stroke&quot;: true, &quot;weight&quot;: 3}\n",
              "            ).addTo(map_e4ff0b07f35fa12a99300edbf4d21719);\n",
              "        \n",
              "    \n",
              "            var poly_line_9552a2f16c1db5c7f72b11a0cef8d142 = L.polyline(\n",
              "                [[13.8128058, 100.0417893], [13.8130128, 100.0419531], [13.8130533, 100.0419827], [13.8130922, 100.041995], [13.8132241, 100.0420287], [13.8136848, 100.0421466], [13.8141824, 100.0422844], [13.8142168, 100.0422826], [13.8143921, 100.0422147], [13.8146489, 100.0421275]],\n",
              "                {&quot;bubblingMouseEvents&quot;: true, &quot;color&quot;: &quot;#3388ff&quot;, &quot;dashArray&quot;: null, &quot;dashOffset&quot;: null, &quot;fill&quot;: false, &quot;fillColor&quot;: &quot;#3388ff&quot;, &quot;fillOpacity&quot;: 0.2, &quot;fillRule&quot;: &quot;evenodd&quot;, &quot;lineCap&quot;: &quot;round&quot;, &quot;lineJoin&quot;: &quot;round&quot;, &quot;noClip&quot;: false, &quot;opacity&quot;: 1.0, &quot;smoothFactor&quot;: 1.0, &quot;stroke&quot;: true, &quot;weight&quot;: 3}\n",
              "            ).addTo(map_e4ff0b07f35fa12a99300edbf4d21719);\n",
              "        \n",
              "    \n",
              "            var poly_line_77960316c65b84b41a316f1474957886 = L.polyline(\n",
              "                [[13.8146489, 100.0421275], [13.8146329, 100.0420308], [13.8145949, 100.0417763], [13.8145462, 100.0414513]],\n",
              "                {&quot;bubblingMouseEvents&quot;: true, &quot;color&quot;: &quot;#3388ff&quot;, &quot;dashArray&quot;: null, &quot;dashOffset&quot;: null, &quot;fill&quot;: false, &quot;fillColor&quot;: &quot;#3388ff&quot;, &quot;fillOpacity&quot;: 0.2, &quot;fillRule&quot;: &quot;evenodd&quot;, &quot;lineCap&quot;: &quot;round&quot;, &quot;lineJoin&quot;: &quot;round&quot;, &quot;noClip&quot;: false, &quot;opacity&quot;: 1.0, &quot;smoothFactor&quot;: 1.0, &quot;stroke&quot;: true, &quot;weight&quot;: 3}\n",
              "            ).addTo(map_e4ff0b07f35fa12a99300edbf4d21719);\n",
              "        \n",
              "    \n",
              "            var poly_line_21554de1f3fb7996e0b034a5d14afcab = L.polyline(\n",
              "                [[13.8145462, 100.0414513], [13.8144262, 100.0407363]],\n",
              "                {&quot;bubblingMouseEvents&quot;: true, &quot;color&quot;: &quot;#3388ff&quot;, &quot;dashArray&quot;: null, &quot;dashOffset&quot;: null, &quot;fill&quot;: false, &quot;fillColor&quot;: &quot;#3388ff&quot;, &quot;fillOpacity&quot;: 0.2, &quot;fillRule&quot;: &quot;evenodd&quot;, &quot;lineCap&quot;: &quot;round&quot;, &quot;lineJoin&quot;: &quot;round&quot;, &quot;noClip&quot;: false, &quot;opacity&quot;: 1.0, &quot;smoothFactor&quot;: 1.0, &quot;stroke&quot;: true, &quot;weight&quot;: 3}\n",
              "            ).addTo(map_e4ff0b07f35fa12a99300edbf4d21719);\n",
              "        \n",
              "    \n",
              "            var poly_line_f059679de2c8da5a723f950cddd7f94e = L.polyline(\n",
              "                [[13.8144262, 100.0407363], [13.8145732, 100.0407066]],\n",
              "                {&quot;bubblingMouseEvents&quot;: true, &quot;color&quot;: &quot;#3388ff&quot;, &quot;dashArray&quot;: null, &quot;dashOffset&quot;: null, &quot;fill&quot;: false, &quot;fillColor&quot;: &quot;#3388ff&quot;, &quot;fillOpacity&quot;: 0.2, &quot;fillRule&quot;: &quot;evenodd&quot;, &quot;lineCap&quot;: &quot;round&quot;, &quot;lineJoin&quot;: &quot;round&quot;, &quot;noClip&quot;: false, &quot;opacity&quot;: 1.0, &quot;smoothFactor&quot;: 1.0, &quot;stroke&quot;: true, &quot;weight&quot;: 3}\n",
              "            ).addTo(map_e4ff0b07f35fa12a99300edbf4d21719);\n",
              "        \n",
              "    \n",
              "            var poly_line_0e165d48f05f215bc723e4f57e47cfdb = L.polyline(\n",
              "                [[13.8145732, 100.0407066], [13.8147011, 100.0406889], [13.8161172, 100.0404933], [13.8164212, 100.0404576], [13.8165363, 100.0404612], [13.8166248, 100.0404775]],\n",
              "                {&quot;bubblingMouseEvents&quot;: true, &quot;color&quot;: &quot;#3388ff&quot;, &quot;dashArray&quot;: null, &quot;dashOffset&quot;: null, &quot;fill&quot;: false, &quot;fillColor&quot;: &quot;#3388ff&quot;, &quot;fillOpacity&quot;: 0.2, &quot;fillRule&quot;: &quot;evenodd&quot;, &quot;lineCap&quot;: &quot;round&quot;, &quot;lineJoin&quot;: &quot;round&quot;, &quot;noClip&quot;: false, &quot;opacity&quot;: 1.0, &quot;smoothFactor&quot;: 1.0, &quot;stroke&quot;: true, &quot;weight&quot;: 3}\n",
              "            ).addTo(map_e4ff0b07f35fa12a99300edbf4d21719);\n",
              "        \n",
              "    \n",
              "            map_e4ff0b07f35fa12a99300edbf4d21719.fitBounds(\n",
              "                [[13.8105782, 100.0397882], [13.8166248, 100.0422844]],\n",
              "                {}\n",
              "            );\n",
              "        \n",
              "    \n",
              "            var marker_3330cd36252d4e3a5633c770fd79ef02 = L.marker(\n",
              "                [13.810925413203364, 100.03999535873761],\n",
              "                {\n",
              "}\n",
              "            ).addTo(map_e4ff0b07f35fa12a99300edbf4d21719);\n",
              "        \n",
              "    \n",
              "            var icon_ae7b67e63a44564751114216255a6a96 = L.AwesomeMarkers.icon(\n",
              "                {\n",
              "  &quot;markerColor&quot;: &quot;green&quot;,\n",
              "  &quot;iconColor&quot;: &quot;white&quot;,\n",
              "  &quot;icon&quot;: &quot;info-sign&quot;,\n",
              "  &quot;prefix&quot;: &quot;glyphicon&quot;,\n",
              "  &quot;extraClasses&quot;: &quot;fa-rotate-0&quot;,\n",
              "}\n",
              "            );\n",
              "        \n",
              "    \n",
              "        var popup_3c7eab543ac4f532085b76b59f55b31c = L.popup({\n",
              "  &quot;maxWidth&quot;: &quot;100%&quot;,\n",
              "});\n",
              "\n",
              "        \n",
              "            \n",
              "                var html_e03d76c7776fc9fa0edbc9363af2ee56 = $(`&lt;div id=&quot;html_e03d76c7776fc9fa0edbc9363af2ee56&quot; style=&quot;width: 100.0%; height: 100.0%;&quot;&gt;Your Place&lt;/div&gt;`)[0];\n",
              "                popup_3c7eab543ac4f532085b76b59f55b31c.setContent(html_e03d76c7776fc9fa0edbc9363af2ee56);\n",
              "            \n",
              "        \n",
              "\n",
              "        marker_3330cd36252d4e3a5633c770fd79ef02.bindPopup(popup_3c7eab543ac4f532085b76b59f55b31c)\n",
              "        ;\n",
              "\n",
              "        \n",
              "    \n",
              "    \n",
              "                marker_3330cd36252d4e3a5633c770fd79ef02.setIcon(icon_ae7b67e63a44564751114216255a6a96);\n",
              "            \n",
              "    \n",
              "            var marker_eac658c0da837145ead67f1aad820c20 = L.marker(\n",
              "                [13.817015070841382, 100.04208567514407],\n",
              "                {\n",
              "}\n",
              "            ).addTo(map_e4ff0b07f35fa12a99300edbf4d21719);\n",
              "        \n",
              "    \n",
              "            var icon_3cde04e34431d74da822bfd14cd1c183 = L.AwesomeMarkers.icon(\n",
              "                {\n",
              "  &quot;markerColor&quot;: &quot;red&quot;,\n",
              "  &quot;iconColor&quot;: &quot;white&quot;,\n",
              "  &quot;icon&quot;: &quot;info-sign&quot;,\n",
              "  &quot;prefix&quot;: &quot;glyphicon&quot;,\n",
              "  &quot;extraClasses&quot;: &quot;fa-rotate-0&quot;,\n",
              "}\n",
              "            );\n",
              "        \n",
              "    \n",
              "        var popup_85d5050da33ffdeb17957d2b0b4cbbd4 = L.popup({\n",
              "  &quot;maxWidth&quot;: &quot;100%&quot;,\n",
              "});\n",
              "\n",
              "        \n",
              "            \n",
              "                var html_ed193167b62229b74698380d373306ee = $(`&lt;div id=&quot;html_ed193167b62229b74698380d373306ee&quot; style=&quot;width: 100.0%; height: 100.0%;&quot;&gt;Silpakorn University&lt;/div&gt;`)[0];\n",
              "                popup_85d5050da33ffdeb17957d2b0b4cbbd4.setContent(html_ed193167b62229b74698380d373306ee);\n",
              "            \n",
              "        \n",
              "\n",
              "        marker_eac658c0da837145ead67f1aad820c20.bindPopup(popup_85d5050da33ffdeb17957d2b0b4cbbd4)\n",
              "        ;\n",
              "\n",
              "        \n",
              "    \n",
              "    \n",
              "                marker_eac658c0da837145ead67f1aad820c20.setIcon(icon_3cde04e34431d74da822bfd14cd1c183);\n",
              "            \n",
              "&lt;/script&gt;\n",
              "&lt;/html&gt;\" style=\"position:absolute;width:100%;height:100%;left:0;top:0;border:none !important;\" allowfullscreen webkitallowfullscreen mozallowfullscreen></iframe></div></div>"
            ]
          },
          "metadata": {},
          "execution_count": 39
        }
      ]
    }
  ]
}